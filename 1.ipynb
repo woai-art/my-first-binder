from manim import *

class WaveFunction(Scene):
    def construct(self):
        # Создаем оси
        axes = Axes(
            x_range=[0, 4 * PI, PI / 2],
            y_range=[-2, 2, 1],
            axis_config={"color": BLUE},
        )

        # Добавляем метки осей
        labels = axes.get_axis_labels(x_label="x", y_label="y")

        # Создаем график синусоидальной волны
        wave = axes.plot(lambda x: np.sin(x), color=RED)

        # Добавляем анимацию
        self.play(Create(axes), Write(labels))
        self.play(Create(wave))
        self.wait(1)

        # Анимация движения волны
        wave.add_updater(lambda m: m.become(
            axes.plot(lambda x: np.sin(x + self.time), color=RED)
        ))
        self.wait(5)
